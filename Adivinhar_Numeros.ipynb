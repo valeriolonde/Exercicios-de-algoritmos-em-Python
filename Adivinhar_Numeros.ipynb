{
 "cells": [
  {
   "attachments": {},
   "cell_type": "markdown",
   "metadata": {},
   "source": [
    "# Pergunta:\n",
    "\n",
    "O programa deve ser um jogo de adivinhação de números, que solicita que o usuário adivinhe um número aleatório entre 1 e um número máximo determinado pelo usuário. O programa solicita ao usuário que insira um número e, em seguida, fornece dicas sobre se o número é maior ou menor do que o número aleatório. Quando o usuário adivinha corretamente, o programa parabeniza o usuário e pergunta se ele deseja jogar novamente. Se o usuário decidir não jogar novamente, o programa encerra. Se o usuário decidir jogar novamente, o programa seleciona um novo número aleatório e o jogo recomeça.\n",
    "\n",
    "# Resposta:\n",
    "\n",
    "Esse programa é um jogo em que o usuário deve adivinhar um número escolhido aleatoriamente pelo computador. O usuário digita um número entre 1 e x, inteiro, e o programa informa se o número é maior ou menor que o número escolhido pelo computador, até que o usuário acerte. Depois que o usuário acerta, o programa pergunta se ele quer jogar novamente. Se o usuário digitar 's', o jogo começa novamente, caso contrário, o programa agradece o usuário por jogar e encerra. O código usa a biblioteca random do Python para gerar um número aleatório e a função while True para garantir que o jogo continue até que o usuário escolha parar.\n",
    "\n",
    "É interessante notar o uso do método de string lower(), que converte as strings em minúsculas. Isso é importante, pois o programa irá ler 's' ou 'S' na hora de perguntar se o usuário quer jogar novamente."
   ]
  },
  {
   "cell_type": "code",
   "execution_count": 1,
   "metadata": {},
   "outputs": [
    {
     "name": "stdout",
     "output_type": "stream",
     "text": [
      "Desculpe. Tente de novo. O número que você digitou é mais baixo \n",
      "Desculpe. Tente de novo. O número que você digitou é mais baixo \n",
      "Desculpe. Tente de novo. O número que você digitou é mais baixo \n",
      "Desculpe. Tente de novo. O número que você digitou é mais baixo \n",
      "Parabéns. Você acertou o número\n",
      "Obrigado por jogar. Até a próxima!\n"
     ]
    }
   ],
   "source": [
    "import random\n",
    "\n",
    "def guess(x):\n",
    "    while True:  ## Loop infinito até quebrar com o break\n",
    "        random_number = random.randint(1, x)              ## Gera um número aleatório de 1 até o número x passado como argumento\n",
    "        guess = 0                                                                        ## Inicializa a variável guess com zero\n",
    "        while guess != random_number:                            ## Loop para continuar pedindo um número até que seja igual ao número gerado\n",
    "            guess = int(input(f\"Por favor, digite um número entre 1 e {x}: \"))                   ## Solicita ao usuário para digitar um número de 1 até o número x passado como argumento\n",
    "            if guess > random_number:                                ## Verifica se o número digitado é maior que o número gerado\n",
    "                print(f\"Desculpe. Tente de novo. O número que você digitou é mais alto \")\n",
    "            elif guess < random_number:                            ## Verifica se o número digitado é menor que o número gerado\n",
    "                print(f\"Desculpe. Tente de novo. O número que você digitou é mais baixo \")\n",
    "        print(\"Parabéns. Você acertou o número\")       ## Exibe a mensagem quando o usuário acerta o número\n",
    "        jogar_novamente = input(\"Você quer jogar novamente? (s/n) \")                                        ## Pergunta ao usuário se ele quer jogar novamente\n",
    "        if jogar_novamente.lower() != 's':                          ## Se a resposta não for 's', quebra o loop com o break\n",
    "            print(\"Obrigado por jogar. Até a próxima!\")\n",
    "            break\n",
    "\n",
    "if __name__ == '__main__':\n",
    "    guess(5)                                      "
   ]
  }
 ],
 "metadata": {
  "kernelspec": {
   "display_name": "Python 3",
   "language": "python",
   "name": "python3"
  },
  "language_info": {
   "codemirror_mode": {
    "name": "ipython",
    "version": 3
   },
   "file_extension": ".py",
   "mimetype": "text/x-python",
   "name": "python",
   "nbconvert_exporter": "python",
   "pygments_lexer": "ipython3",
   "version": "3.11.0"
  },
  "orig_nbformat": 4
 },
 "nbformat": 4,
 "nbformat_minor": 2
}
