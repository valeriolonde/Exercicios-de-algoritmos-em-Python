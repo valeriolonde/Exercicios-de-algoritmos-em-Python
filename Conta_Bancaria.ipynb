{
 "cells": [
  {
   "attachments": {},
   "cell_type": "markdown",
   "metadata": {},
   "source": [
    "Em python, crie uma classe ContaBancaria que tenha atributos como nome do titular da conta, número da conta e saldo. A classe deve ter métodos para depositar dinheiro na conta, sacar dinheiro da conta e imprimir o saldo atual da conta. Além disso, você deve adicionar um método para imprimir o extrato da conta."
   ]
  },
  {
   "attachments": {},
   "cell_type": "markdown",
   "metadata": {},
   "source": [
    "Resposta:\n",
    "\n",
    "Este exercício é importante porque ajuda a compreender o conceito de classes e objetos na programação orientada a objetos, que é um dos principais paradigmas de programação utilizadas atualmente.\n",
    "\n",
    "Ao escrever este código, eu criei uma classe que representa uma conta bancária, com atributos como nome do titular, número da conta e saldo, bem como métodos que permitem depositar, sacar e exibir o saldo total e o histórico de transações da conta.\n",
    "\n",
    "Além disso, este exercício também permite que você pratique a criação de métodos para manipular objetos, uso de listas para armazenar informações, bem como o uso do módulo datetime para trabalhar com data e hora. Também foi utilizado fstrings, que atualmente é considerada uma boa prática em programação.\n",
    "\n",
    "Portanto, é um bom exercício para ajudar a consolidar conceitos importantes da programação orientada a objetos e prepará-lo para projetos mais complexos envolvendo a criação de classes e objetos em Python.\n"
   ]
  },
  {
   "cell_type": "code",
   "execution_count": 1,
   "metadata": {},
   "outputs": [
    {
     "name": "stdout",
     "output_type": "stream",
     "text": [
      "O saldo total da conta de Valério, cujo número é 1954-72 é de RS2200.00\n",
      "O histórico de transações para a conta de Valério é:\n",
      "2023-05-24 08:48:53.001683 - Depósito - RS600.00\n",
      "2023-05-24 08:48:53.001683 - Saque - RS500.00\n"
     ]
    }
   ],
   "source": [
    "from datetime import datetime  # Importa a classe datetime do módulo datetime.\n",
    "\n",
    "class ContaBancaria:  # Define uma classe Conta_Bancaria.\n",
    "\n",
    "    def __init__(self, nome, n_conta, saldo):  \n",
    "                    # Define um construtor para a classe Conta_Bancaria que recebe nome, número da conta e saldo inicial.\n",
    "        self.nome = nome  # Atribui o nome do titular da conta ao atributo \"nome\".\n",
    "        self.n_conta = n_conta  # Atribui o número da conta ao atributo \"n_conta\".\n",
    "        self.saldo = saldo  # Atribui o saldo inicial da conta ao atributo \"saldo\".\n",
    "        self.transacoes = []  # Inicializa a lista de transações com uma lista vazia.\n",
    "\n",
    "    def depositar(self, valor):  \n",
    "                    # Define um método \"depositar\" que recebe um valor a ser depositado na conta.\n",
    "        self.saldo += valor  # Adiciona o valor depositado ao saldo da conta.\n",
    "        self.transacoes.append((valor, \"Depósito\", datetime.now()))  \n",
    "                    # Adiciona uma nova transação à lista de transações contendo o valor depositado, o tipo de transação (\"Depósito\")\n",
    "                    # e a data/hora atual.\n",
    "\n",
    "    def sacar(self, valor):  \n",
    "                    # Define um método \"sacar\" que recebe um valor a ser sacado da conta.\n",
    "        if self.saldo < valor:  \n",
    "                        # Verifica se o saldo da conta é suficiente para realizar o saque.\n",
    "            print(\"O saldo é insuficiente\")  \n",
    "                        # Se o saldo for insuficiente, exibe uma mensagem de erro.\n",
    "        else:\n",
    "            self.saldo -= valor  # Subtrai o valor sacado do saldo da conta.\n",
    "            self.transacoes.append((valor, \"Saque\", datetime.now()))  \n",
    "                        # Adiciona uma nova transação à lista de transações contendo o valor sacado, o tipo de transação (\"Saque\")\n",
    "                        # e a data/hora atual.\n",
    "\n",
    "    def total(self):  \n",
    "                    # Define um método \"total\" para exibir o saldo total da conta.\n",
    "        print(f\"O saldo total da conta de {self.nome}, cujo número é {self.n_conta} é de RS{self.saldo:.2f}\")  \n",
    "                    # Exibe uma mensagem contendo o nome do titular da conta, o número da conta e o saldo atual.\n",
    "\n",
    "    def extrato(self):  \n",
    "                    # Define um método \"extrato\" para exibir as transações da conta.\n",
    "        print(f\"O histórico de transações para a conta de {self.nome} é:\")\n",
    "                    # Exibe uma mensagem contendo o nome do titular da conta.\n",
    "        for valor, tipo, data in self.transacoes:  \n",
    "                        # Percorre a lista de transações e exibe cada uma delas.\n",
    "            print(f\"{data} - {tipo} - RS{valor:.2f}\")\n",
    "                        # Exibe a data/hora da transação, o tipo de transação (\"Depósito\" ou \"Saque\") e o valor envolvido.\n",
    "\n",
    "## Nome, número e valor da conta bancária de Valério    \n",
    "conta = ContaBancaria(\"Valério\", \"1954-72\", 2100)\n",
    "\n",
    "## Depósito na conta\n",
    "conta.depositar(600)\n",
    "\n",
    "## Saque na conta\n",
    "conta.sacar(500)\n",
    "\n",
    "## Valor total na conta\n",
    "conta.total()\n",
    "\n",
    "## Extrato da conta \n",
    "conta.extrato()"
   ]
  }
 ],
 "metadata": {
  "kernelspec": {
   "display_name": "Python 3",
   "language": "python",
   "name": "python3"
  },
  "language_info": {
   "codemirror_mode": {
    "name": "ipython",
    "version": 3
   },
   "file_extension": ".py",
   "mimetype": "text/x-python",
   "name": "python",
   "nbconvert_exporter": "python",
   "pygments_lexer": "ipython3",
   "version": "3.11.0"
  },
  "orig_nbformat": 4
 },
 "nbformat": 4,
 "nbformat_minor": 2
}
