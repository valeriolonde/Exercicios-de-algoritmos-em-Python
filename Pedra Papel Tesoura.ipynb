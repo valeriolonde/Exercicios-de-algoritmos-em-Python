{
 "cells": [
  {
   "cell_type": "code",
   "execution_count": null,
   "metadata": {},
   "outputs": [],
   "source": [
    "import random\n",
    "\n",
    "def play():\n",
    "    scores = {'user': 0, 'computer': 0}  ## Define um dicionário com a pontuação atual do usuário e do computador\n",
    "    print(\"Vamos jogar pedra, papel e tesoura \")  ## Exibe uma mensagem de início de jogo\n",
    "    while True:  ## Inicia um loop infinito para continuar o jogo até o usuário decidir parar\n",
    "        user = input(\"'p' para pedra, 't' para tesoura e 'pa' para papel\").lower()  ## Recebe a jogada do usuário\n",
    "        while user not in ['p', 't', 'pa']:  ## Garante que a jogada do usuário é válida\n",
    "            print(\"Input inválido. Digite 'p', 'pa' ou 't' \")\n",
    "            user = input(\"'p' para pedra, 't' para tesoura e 'pa' para papel\").lower()\n",
    "            continue    \n",
    "        computer = random.choice(['p' , 't', 'pa'])  ## Escolhe aleatoriamente a jogada do computador\n",
    "\n",
    "        if user == computer:  ## Caso de empate\n",
    "            print('It\\'s a tie')\n",
    "        elif is_win(user, computer):  ## Caso em que o usuário ganha\n",
    "            print('You won!')\n",
    "            scores['user'] += 1  ## Adiciona um ponto para o usuário\n",
    "        else:  ## Caso em que o computador ganha\n",
    "            print('You lost!')\n",
    "            scores['computer'] += 1  ## Adiciona um ponto para o computador\n",
    "\n",
    "         # Exibir a tabela de pontuação\n",
    "        print(f\"{'JOGADOR':<10}{'COMPUTADOR':<10}\")  ## Exibe o cabeçalho da tabela\n",
    "        print(f\"{scores['user']:<10}{scores['computer']:<10}\")  ## Exibe a pontuação atual\n",
    "\n",
    "        jogar_novamente = input(\"Você quer jogar novamente? (s/n) \").lower()  ## Pergunta ao usuário se ele quer jogar novamente\n",
    "        while jogar_novamente not in ['s','n']:  ## Garante que a resposta do usuário é válida\n",
    "            print(\"Input inválido. Digite 's' ou 'n\")\n",
    "            jogar_novamente = input(\"Você quer jogar novamente? (s/n) \").lower()\n",
    "        if jogar_novamente == 'n':  ## Caso o usuário não queira mais jogar, finaliza o loop\n",
    "            print(\"O jogo terminou.\")\n",
    "            break    \n",
    "\n",
    "\n",
    "def is_win(player, opponent):\n",
    "    # return true if player wins\n",
    "    # p > t, pa > p e t>pa\n",
    "    if  (player == 'p' and opponent == 't') or \\\n",
    "        (player == 't' and opponent == 'pa') or \\\n",
    "        (player == 'pa' and opponent == 'p'):  ## Define as condições de vitória do jogador\n",
    "        return True\n",
    "\n",
    "play()  ## Inicia o jogo"
   ]
  }
 ],
 "metadata": {
  "kernelspec": {
   "display_name": "Python 3",
   "language": "python",
   "name": "python3"
  },
  "language_info": {
   "codemirror_mode": {
    "name": "ipython",
    "version": 3
   },
   "file_extension": ".py",
   "mimetype": "text/x-python",
   "name": "python",
   "nbconvert_exporter": "python",
   "pygments_lexer": "ipython3",
   "version": "3.11.0"
  },
  "orig_nbformat": 4
 },
 "nbformat": 4,
 "nbformat_minor": 2
}
