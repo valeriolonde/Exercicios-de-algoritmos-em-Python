{
 "cells": [
  {
   "attachments": {},
   "cell_type": "markdown",
   "metadata": {},
   "source": [
    "O arquivo src/dictstring/constants.txt8 contém uma tabela de valores e as dimensões de algumas constantes fundamentais da física. Queremos carregar esta tabela em um dicionário de constantes, onde as chaves são os nomes das constantes. Por exemplo, constants[’gravitational constant’] contém o valor da constante gravitacional (6:67259 1011) na lei da gravitação de Newton. Faça uma função que lê e interprete o texto no arquivo e, finalmente, retorne o dicionário.\n",
    "\n",
    "Filename: fundamental_constants.\n",
    "\n",
    "A pergunta está no livro A Primer on Scientific Programming with Python por Hans Petter Langtangen, quinta edição, página 402 e corresponde ao exercício 6.1 da página.\n"
   ]
  },
  {
   "cell_type": "code",
   "execution_count": 23,
   "metadata": {},
   "outputs": [
    {
     "data": {
      "image/png": "[encoded data removed]",
      "text/plain": [
       "<IPython.core.display.Image object>"
      ]
     },
     "execution_count": 23,
     "metadata": {},
     "output_type": "execute_result"
    }
   ],
   "source": [
    "from IPython.display import Image\n",
    "\n",
    "# Exibir a imagem\n",
    "image_path = 'C:/Users/Cliente/Desktop/Métodos computacionais/imagem.png'\n",
    "Image(filename=image_path)"
   ]
  },
  {
   "cell_type": "code",
   "execution_count": 24,
   "metadata": {},
   "outputs": [
    {
     "name": "stdout",
     "output_type": "stream",
     "text": [
      "name of constant           value              dimension\n",
      "------------------------------------------------------------\n",
      "speed of light             299792458.0        m/s\n",
      "gravitational constant     6.67259e-11        m**3/kg/s**2\n",
      "Planck constant            6.6260755e-34      J*s\n",
      "elementary charge          1.60217733e-19     C\n",
      "Avogadro number            6.0221367e23       1/mol\n",
      "Boltzmann constant         1.380658e-23       J/K\n",
      "electron mass              9.1093897e-31      kg\n",
      "proton mass                1.6726231e-27      kg\n",
      "\n",
      "{'speed of light': ('299792458.0', 'm/s'), 'gravitational constant': ('6.67259e-11', 'm**3/kg/s**2'), 'Planck constant': ('6.6260755e-34', 'J*s'), 'elementary charge': ('1.60217733e-19', 'C'), 'Avogadro number': ('6.0221367e23', '1/mol'), 'Boltzmann constant': ('1.380658e-23', 'J/K'), 'electron mass': ('9.1093897e-31', 'kg'), 'proton mass': ('1.6726231e-27', 'kg')}\n"
     ]
    }
   ],
   "source": [
    "import requests \n",
    "import re\n",
    "\n",
    "def main():\n",
    "    ## Define a URL do arquivo de texto no GitHub\n",
    "    url = \"https://raw.githubusercontent.com/hplgit/scipro-primer/master/src/dictstring/constants.txt\" \n",
    "\n",
    "    ## Faz uma requisição GET à URL especificada e armazena a resposta na variável `response`\n",
    "    response = requests.get(url) \n",
    "\n",
    "    ## Decodifica o conteúdo da resposta como uma string usando UTF-8 e armazena na variável `content`\n",
    "    content = response.content.decode('utf-8') \n",
    "\n",
    "    ## Printando \n",
    "    print(content)   ## quebra o conteúdo em linhas e retorna uma lista\n",
    "    linhas = content.splitlines()\n",
    "\n",
    "    ## Deletando os dois primeiros elementos da lista, pois não interessa o cabeçalho e o --- da string\n",
    "    del linhas[:2]\n",
    "\n",
    "    ## Declarando um dicionário vazio\n",
    "    my_dict = {}\n",
    "\n",
    "    # Loop pelas linhas do arquivo\n",
    "    for line in linhas:\n",
    "        # Usa regex para separar as informações em grupos\n",
    "        match = re.match(r'^(.*?)\\s{2,}(.*?)\\s{2,}(.*)$', line)\n",
    "        if match:\n",
    "            # Extrai os grupos\n",
    "            titulo, valor, unidade = match.groups()\n",
    "            # Adiciona ao dicionário\n",
    "            my_dict[titulo] = (valor, unidade)\n",
    "\n",
    "    # Imprime o dicionário\n",
    "    print(my_dict)\n",
    "\n",
    "if __name__ == '__main__':\n",
    "    main() \n"
   ]
  },
  {
   "cell_type": "code",
   "execution_count": 25,
   "metadata": {},
   "outputs": [
    {
     "name": "stdout",
     "output_type": "stream",
     "text": [
      "{'speed of light': [299792458.0, 'm/s'], 'gravitational constant': [6.67259e-11, 'm**3/kg/s**2'], 'Planck constant': [6.6260755e-34, 'J*s'], 'elementary charge': [1.60217733e-19, 'C'], 'Avogadro number': [6.0221367e+23, '1/mol'], 'Boltzmann constant': [1.380658e-23, 'J/K'], 'electron mass': [9.109389700000001e-31, 'kg'], 'proton mass': [1.6726231e-27, 'kg']}\n"
     ]
    },
    {
     "name": "stderr",
     "output_type": "stream",
     "text": [
      "C:\\Users\\Cliente\\AppData\\Local\\Temp\\ipykernel_13480\\2916728976.py:5: ParserWarning: Falling back to the 'python' engine because the 'c' engine does not support regex separators (separators > 1 char and different from '\\s+' are interpreted as regex); you can avoid this warning by specifying engine='python'.\n",
      "  df = pd.read_csv(\"https://raw.githubusercontent.com/hplgit/scipro-primer/master/src/dictstring/constants.txt\", sep=r'\\s{2,}')\n"
     ]
    }
   ],
   "source": [
    "import pandas as pd\n",
    "\n",
    "# Importa a biblioteca pandas e atribui o alias pd\n",
    "\n",
    "df = pd.read_csv(\"https://raw.githubusercontent.com/hplgit/scipro-primer/master/src/dictstring/constants.txt\", sep=r'\\s{2,}')\n",
    "# Lê um arquivo CSV hospedado em um repositório no GitHub, utilizando dois ou mais espaços em branco como separador de colunas\n",
    "# Atribui o DataFrame resultante à variável df\n",
    "\n",
    "df = df.drop(0)\n",
    "# Remove a primeira linha do DataFrame df\n",
    "\n",
    "dict_final = df.set_index('name of constant').T.to_dict('list')\n",
    "# Configura o índice do DataFrame df para a coluna \"name of constant\"\n",
    "# Transpõe as linhas e colunas do DataFrame df\n",
    "# Converte o DataFrame df em um dicionário, onde as chaves são as colunas e os valores são as listas de valores de cada coluna\n",
    "\n",
    "print(dict_final)"
   ]
  }
 ],
 "metadata": {
  "kernelspec": {
   "display_name": "Python 3",
   "language": "python",
   "name": "python3"
  },
  "language_info": {
   "codemirror_mode": {
    "name": "ipython",
    "version": 3
   },
   "file_extension": ".py",
   "mimetype": "text/x-python",
   "name": "python",
   "nbconvert_exporter": "python",
   "pygments_lexer": "ipython3",
   "version": "3.11.0"
  },
  "orig_nbformat": 4
 },
 "nbformat": 4,
 "nbformat_minor": 2
}
